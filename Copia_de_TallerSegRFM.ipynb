{
  "cells": [
    {
      "cell_type": "markdown",
      "id": "41df8f36",
      "metadata": {
        "id": "41df8f36"
      },
      "source": [
        "# Taller de Segmentación RFM\n",
        "\n",
        "En este notebook aprenderemos a realizar una segmentación RFM completa paso a paso. Se utilizarán datos de transacciones y se explicará cada parte del proceso. ¡Sigue las instrucciones y ejecuta cada celda para ir avanzando!"
      ]
    },
    {
      "cell_type": "code",
      "source": [
        "!wget https://github.com/javierherrera1996/IntroMarketingAnalytics/raw/refs/heads/main/SegundoCorte/Case%201_Online%20Retail.xlsx%20-%20Online%20Retail.csv.zip\n",
        "!unzip \"Case 1_Online Retail.xlsx - Online Retail.csv.zip\""
      ],
      "metadata": {
        "colab": {
          "base_uri": "https://localhost:8080/"
        },
        "id": "EdUMU1Pesnqb",
        "outputId": "9ec41571-d523-4518-ef1d-f85abcc1ed6a"
      },
      "id": "EdUMU1Pesnqb",
      "execution_count": null,
      "outputs": [
        {
          "output_type": "stream",
          "name": "stdout",
          "text": [
            "--2025-04-09 23:06:20--  https://github.com/javierherrera1996/IntroMarketingAnalytics/raw/refs/heads/main/SegundoCorte/Case%201_Online%20Retail.xlsx%20-%20Online%20Retail.csv.zip\n",
            "Resolving github.com (github.com)... 140.82.114.3\n",
            "Connecting to github.com (github.com)|140.82.114.3|:443... connected.\n",
            "HTTP request sent, awaiting response... 302 Found\n",
            "Location: https://raw.githubusercontent.com/javierherrera1996/IntroMarketingAnalytics/refs/heads/main/SegundoCorte/Case%201_Online%20Retail.xlsx%20-%20Online%20Retail.csv.zip [following]\n",
            "--2025-04-09 23:06:20--  https://raw.githubusercontent.com/javierherrera1996/IntroMarketingAnalytics/refs/heads/main/SegundoCorte/Case%201_Online%20Retail.xlsx%20-%20Online%20Retail.csv.zip\n",
            "Resolving raw.githubusercontent.com (raw.githubusercontent.com)... 185.199.109.133, 185.199.111.133, 185.199.110.133, ...\n",
            "Connecting to raw.githubusercontent.com (raw.githubusercontent.com)|185.199.109.133|:443... connected.\n",
            "HTTP request sent, awaiting response... 200 OK\n",
            "Length: 7587618 (7.2M) [application/zip]\n",
            "Saving to: ‘Case 1_Online Retail.xlsx - Online Retail.csv.zip’\n",
            "\n",
            "Case 1_Online Retai 100%[===================>]   7.24M  --.-KB/s    in 0.06s   \n",
            "\n",
            "2025-04-09 23:06:20 (125 MB/s) - ‘Case 1_Online Retail.xlsx - Online Retail.csv.zip’ saved [7587618/7587618]\n",
            "\n",
            "Archive:  Case 1_Online Retail.xlsx - Online Retail.csv.zip\n",
            "  inflating: Case 1_Online Retail.xlsx - Online Retail.csv  \n",
            "  inflating: __MACOSX/._Case 1_Online Retail.xlsx - Online Retail.csv  \n"
          ]
        }
      ]
    },
    {
      "cell_type": "markdown",
      "id": "28a8bd3d",
      "metadata": {
        "id": "28a8bd3d"
      },
      "source": [
        "## 1. Preparación de Datos\n",
        "\n",
        "Primero, cargaremos la librería necesaria y prepararemos los datos. Para este ejemplo, vamos a simular un DataFrame similar a una tabla de transacciones.\n",
        "\n",
        "Ejecuta la siguiente celda y revisa el DataFrame resultante."
      ]
    },
    {
      "cell_type": "code",
      "source": [
        "import pandas as pd\n",
        "import numpy as np\n",
        "import datetime as dt\n",
        "import matplotlib.pyplot as plt\n",
        "import seaborn as sns\n",
        "\n",
        "# Configurar estilo de seaborn\n",
        "sns.set(style='whitegrid')"
      ],
      "metadata": {
        "id": "W8DjO_l5rqO2"
      },
      "id": "W8DjO_l5rqO2",
      "execution_count": null,
      "outputs": []
    },
    {
      "cell_type": "code",
      "execution_count": null,
      "id": "cd5d85ee",
      "metadata": {
        "colab": {
          "base_uri": "https://localhost:8080/",
          "height": 204
        },
        "id": "cd5d85ee",
        "outputId": "131c3ae3-5f21-41cc-d9e0-c8b0ccb9f166"
      },
      "outputs": [
        {
          "output_type": "execute_result",
          "data": {
            "text/plain": [
              "  InvoiceNo StockCode                          Description  Quantity  \\\n",
              "0    536365    85123A   WHITE HANGING HEART T-LIGHT HOLDER         6   \n",
              "1    536365     71053                  WHITE METAL LANTERN         6   \n",
              "2    536365    84406B       CREAM CUPID HEARTS COAT HANGER         8   \n",
              "3    536365    84029G  KNITTED UNION FLAG HOT WATER BOTTLE         6   \n",
              "4    536365    84029E       RED WOOLLY HOTTIE WHITE HEART.         6   \n",
              "\n",
              "    InvoiceDate UnitPrice  CustomerID         Country  \n",
              "0  12/1/10 8:26      2,55     17850.0  United Kingdom  \n",
              "1  12/1/10 8:26      3,39     17850.0  United Kingdom  \n",
              "2  12/1/10 8:26      2,75     17850.0  United Kingdom  \n",
              "3  12/1/10 8:26      3,39     17850.0  United Kingdom  \n",
              "4  12/1/10 8:26      3,39     17850.0  United Kingdom  "
            ],
            "text/html": [
              "\n",
              "  <div id=\"df-0f5c0108-4061-4e28-be78-0d5570a17af1\" class=\"colab-df-container\">\n",
              "    <div>\n",
              "<style scoped>\n",
              "    .dataframe tbody tr th:only-of-type {\n",
              "        vertical-align: middle;\n",
              "    }\n",
              "\n",
              "    .dataframe tbody tr th {\n",
              "        vertical-align: top;\n",
              "    }\n",
              "\n",
              "    .dataframe thead th {\n",
              "        text-align: right;\n",
              "    }\n",
              "</style>\n",
              "<table border=\"1\" class=\"dataframe\">\n",
              "  <thead>\n",
              "    <tr style=\"text-align: right;\">\n",
              "      <th></th>\n",
              "      <th>InvoiceNo</th>\n",
              "      <th>StockCode</th>\n",
              "      <th>Description</th>\n",
              "      <th>Quantity</th>\n",
              "      <th>InvoiceDate</th>\n",
              "      <th>UnitPrice</th>\n",
              "      <th>CustomerID</th>\n",
              "      <th>Country</th>\n",
              "    </tr>\n",
              "  </thead>\n",
              "  <tbody>\n",
              "    <tr>\n",
              "      <th>0</th>\n",
              "      <td>536365</td>\n",
              "      <td>85123A</td>\n",
              "      <td>WHITE HANGING HEART T-LIGHT HOLDER</td>\n",
              "      <td>6</td>\n",
              "      <td>12/1/10 8:26</td>\n",
              "      <td>2,55</td>\n",
              "      <td>17850.0</td>\n",
              "      <td>United Kingdom</td>\n",
              "    </tr>\n",
              "    <tr>\n",
              "      <th>1</th>\n",
              "      <td>536365</td>\n",
              "      <td>71053</td>\n",
              "      <td>WHITE METAL LANTERN</td>\n",
              "      <td>6</td>\n",
              "      <td>12/1/10 8:26</td>\n",
              "      <td>3,39</td>\n",
              "      <td>17850.0</td>\n",
              "      <td>United Kingdom</td>\n",
              "    </tr>\n",
              "    <tr>\n",
              "      <th>2</th>\n",
              "      <td>536365</td>\n",
              "      <td>84406B</td>\n",
              "      <td>CREAM CUPID HEARTS COAT HANGER</td>\n",
              "      <td>8</td>\n",
              "      <td>12/1/10 8:26</td>\n",
              "      <td>2,75</td>\n",
              "      <td>17850.0</td>\n",
              "      <td>United Kingdom</td>\n",
              "    </tr>\n",
              "    <tr>\n",
              "      <th>3</th>\n",
              "      <td>536365</td>\n",
              "      <td>84029G</td>\n",
              "      <td>KNITTED UNION FLAG HOT WATER BOTTLE</td>\n",
              "      <td>6</td>\n",
              "      <td>12/1/10 8:26</td>\n",
              "      <td>3,39</td>\n",
              "      <td>17850.0</td>\n",
              "      <td>United Kingdom</td>\n",
              "    </tr>\n",
              "    <tr>\n",
              "      <th>4</th>\n",
              "      <td>536365</td>\n",
              "      <td>84029E</td>\n",
              "      <td>RED WOOLLY HOTTIE WHITE HEART.</td>\n",
              "      <td>6</td>\n",
              "      <td>12/1/10 8:26</td>\n",
              "      <td>3,39</td>\n",
              "      <td>17850.0</td>\n",
              "      <td>United Kingdom</td>\n",
              "    </tr>\n",
              "  </tbody>\n",
              "</table>\n",
              "</div>\n",
              "    <div class=\"colab-df-buttons\">\n",
              "\n",
              "  <div class=\"colab-df-container\">\n",
              "    <button class=\"colab-df-convert\" onclick=\"convertToInteractive('df-0f5c0108-4061-4e28-be78-0d5570a17af1')\"\n",
              "            title=\"Convert this dataframe to an interactive table.\"\n",
              "            style=\"display:none;\">\n",
              "\n",
              "  <svg xmlns=\"http://www.w3.org/2000/svg\" height=\"24px\" viewBox=\"0 -960 960 960\">\n",
              "    <path d=\"M120-120v-720h720v720H120Zm60-500h600v-160H180v160Zm220 220h160v-160H400v160Zm0 220h160v-160H400v160ZM180-400h160v-160H180v160Zm440 0h160v-160H620v160ZM180-180h160v-160H180v160Zm440 0h160v-160H620v160Z\"/>\n",
              "  </svg>\n",
              "    </button>\n",
              "\n",
              "  <style>\n",
              "    .colab-df-container {\n",
              "      display:flex;\n",
              "      gap: 12px;\n",
              "    }\n",
              "\n",
              "    .colab-df-convert {\n",
              "      background-color: #E8F0FE;\n",
              "      border: none;\n",
              "      border-radius: 50%;\n",
              "      cursor: pointer;\n",
              "      display: none;\n",
              "      fill: #1967D2;\n",
              "      height: 32px;\n",
              "      padding: 0 0 0 0;\n",
              "      width: 32px;\n",
              "    }\n",
              "\n",
              "    .colab-df-convert:hover {\n",
              "      background-color: #E2EBFA;\n",
              "      box-shadow: 0px 1px 2px rgba(60, 64, 67, 0.3), 0px 1px 3px 1px rgba(60, 64, 67, 0.15);\n",
              "      fill: #174EA6;\n",
              "    }\n",
              "\n",
              "    .colab-df-buttons div {\n",
              "      margin-bottom: 4px;\n",
              "    }\n",
              "\n",
              "    [theme=dark] .colab-df-convert {\n",
              "      background-color: #3B4455;\n",
              "      fill: #D2E3FC;\n",
              "    }\n",
              "\n",
              "    [theme=dark] .colab-df-convert:hover {\n",
              "      background-color: #434B5C;\n",
              "      box-shadow: 0px 1px 3px 1px rgba(0, 0, 0, 0.15);\n",
              "      filter: drop-shadow(0px 1px 2px rgba(0, 0, 0, 0.3));\n",
              "      fill: #FFFFFF;\n",
              "    }\n",
              "  </style>\n",
              "\n",
              "    <script>\n",
              "      const buttonEl =\n",
              "        document.querySelector('#df-0f5c0108-4061-4e28-be78-0d5570a17af1 button.colab-df-convert');\n",
              "      buttonEl.style.display =\n",
              "        google.colab.kernel.accessAllowed ? 'block' : 'none';\n",
              "\n",
              "      async function convertToInteractive(key) {\n",
              "        const element = document.querySelector('#df-0f5c0108-4061-4e28-be78-0d5570a17af1');\n",
              "        const dataTable =\n",
              "          await google.colab.kernel.invokeFunction('convertToInteractive',\n",
              "                                                    [key], {});\n",
              "        if (!dataTable) return;\n",
              "\n",
              "        const docLinkHtml = 'Like what you see? Visit the ' +\n",
              "          '<a target=\"_blank\" href=https://colab.research.google.com/notebooks/data_table.ipynb>data table notebook</a>'\n",
              "          + ' to learn more about interactive tables.';\n",
              "        element.innerHTML = '';\n",
              "        dataTable['output_type'] = 'display_data';\n",
              "        await google.colab.output.renderOutput(dataTable, element);\n",
              "        const docLink = document.createElement('div');\n",
              "        docLink.innerHTML = docLinkHtml;\n",
              "        element.appendChild(docLink);\n",
              "      }\n",
              "    </script>\n",
              "  </div>\n",
              "\n",
              "\n",
              "<div id=\"df-033450d3-fa4c-4478-a3e7-819dc1d13a83\">\n",
              "  <button class=\"colab-df-quickchart\" onclick=\"quickchart('df-033450d3-fa4c-4478-a3e7-819dc1d13a83')\"\n",
              "            title=\"Suggest charts\"\n",
              "            style=\"display:none;\">\n",
              "\n",
              "<svg xmlns=\"http://www.w3.org/2000/svg\" height=\"24px\"viewBox=\"0 0 24 24\"\n",
              "     width=\"24px\">\n",
              "    <g>\n",
              "        <path d=\"M19 3H5c-1.1 0-2 .9-2 2v14c0 1.1.9 2 2 2h14c1.1 0 2-.9 2-2V5c0-1.1-.9-2-2-2zM9 17H7v-7h2v7zm4 0h-2V7h2v10zm4 0h-2v-4h2v4z\"/>\n",
              "    </g>\n",
              "</svg>\n",
              "  </button>\n",
              "\n",
              "<style>\n",
              "  .colab-df-quickchart {\n",
              "      --bg-color: #E8F0FE;\n",
              "      --fill-color: #1967D2;\n",
              "      --hover-bg-color: #E2EBFA;\n",
              "      --hover-fill-color: #174EA6;\n",
              "      --disabled-fill-color: #AAA;\n",
              "      --disabled-bg-color: #DDD;\n",
              "  }\n",
              "\n",
              "  [theme=dark] .colab-df-quickchart {\n",
              "      --bg-color: #3B4455;\n",
              "      --fill-color: #D2E3FC;\n",
              "      --hover-bg-color: #434B5C;\n",
              "      --hover-fill-color: #FFFFFF;\n",
              "      --disabled-bg-color: #3B4455;\n",
              "      --disabled-fill-color: #666;\n",
              "  }\n",
              "\n",
              "  .colab-df-quickchart {\n",
              "    background-color: var(--bg-color);\n",
              "    border: none;\n",
              "    border-radius: 50%;\n",
              "    cursor: pointer;\n",
              "    display: none;\n",
              "    fill: var(--fill-color);\n",
              "    height: 32px;\n",
              "    padding: 0;\n",
              "    width: 32px;\n",
              "  }\n",
              "\n",
              "  .colab-df-quickchart:hover {\n",
              "    background-color: var(--hover-bg-color);\n",
              "    box-shadow: 0 1px 2px rgba(60, 64, 67, 0.3), 0 1px 3px 1px rgba(60, 64, 67, 0.15);\n",
              "    fill: var(--button-hover-fill-color);\n",
              "  }\n",
              "\n",
              "  .colab-df-quickchart-complete:disabled,\n",
              "  .colab-df-quickchart-complete:disabled:hover {\n",
              "    background-color: var(--disabled-bg-color);\n",
              "    fill: var(--disabled-fill-color);\n",
              "    box-shadow: none;\n",
              "  }\n",
              "\n",
              "  .colab-df-spinner {\n",
              "    border: 2px solid var(--fill-color);\n",
              "    border-color: transparent;\n",
              "    border-bottom-color: var(--fill-color);\n",
              "    animation:\n",
              "      spin 1s steps(1) infinite;\n",
              "  }\n",
              "\n",
              "  @keyframes spin {\n",
              "    0% {\n",
              "      border-color: transparent;\n",
              "      border-bottom-color: var(--fill-color);\n",
              "      border-left-color: var(--fill-color);\n",
              "    }\n",
              "    20% {\n",
              "      border-color: transparent;\n",
              "      border-left-color: var(--fill-color);\n",
              "      border-top-color: var(--fill-color);\n",
              "    }\n",
              "    30% {\n",
              "      border-color: transparent;\n",
              "      border-left-color: var(--fill-color);\n",
              "      border-top-color: var(--fill-color);\n",
              "      border-right-color: var(--fill-color);\n",
              "    }\n",
              "    40% {\n",
              "      border-color: transparent;\n",
              "      border-right-color: var(--fill-color);\n",
              "      border-top-color: var(--fill-color);\n",
              "    }\n",
              "    60% {\n",
              "      border-color: transparent;\n",
              "      border-right-color: var(--fill-color);\n",
              "    }\n",
              "    80% {\n",
              "      border-color: transparent;\n",
              "      border-right-color: var(--fill-color);\n",
              "      border-bottom-color: var(--fill-color);\n",
              "    }\n",
              "    90% {\n",
              "      border-color: transparent;\n",
              "      border-bottom-color: var(--fill-color);\n",
              "    }\n",
              "  }\n",
              "</style>\n",
              "\n",
              "  <script>\n",
              "    async function quickchart(key) {\n",
              "      const quickchartButtonEl =\n",
              "        document.querySelector('#' + key + ' button');\n",
              "      quickchartButtonEl.disabled = true;  // To prevent multiple clicks.\n",
              "      quickchartButtonEl.classList.add('colab-df-spinner');\n",
              "      try {\n",
              "        const charts = await google.colab.kernel.invokeFunction(\n",
              "            'suggestCharts', [key], {});\n",
              "      } catch (error) {\n",
              "        console.error('Error during call to suggestCharts:', error);\n",
              "      }\n",
              "      quickchartButtonEl.classList.remove('colab-df-spinner');\n",
              "      quickchartButtonEl.classList.add('colab-df-quickchart-complete');\n",
              "    }\n",
              "    (() => {\n",
              "      let quickchartButtonEl =\n",
              "        document.querySelector('#df-033450d3-fa4c-4478-a3e7-819dc1d13a83 button');\n",
              "      quickchartButtonEl.style.display =\n",
              "        google.colab.kernel.accessAllowed ? 'block' : 'none';\n",
              "    })();\n",
              "  </script>\n",
              "</div>\n",
              "\n",
              "    </div>\n",
              "  </div>\n"
            ],
            "application/vnd.google.colaboratory.intrinsic+json": {
              "type": "dataframe",
              "variable_name": "df"
            }
          },
          "metadata": {},
          "execution_count": 3
        }
      ],
      "source": [
        "df = pd.read_csv('Case 1_Online Retail.xlsx - Online Retail.csv')\n",
        "df.head()"
      ]
    },
    {
      "cell_type": "markdown",
      "source": [
        "Convierta la variable InvoiceDate en tipo datetime con pd.to_datetime()"
      ],
      "metadata": {
        "id": "QD9K38LBtq2P"
      },
      "id": "QD9K38LBtq2P"
    },
    {
      "cell_type": "code",
      "source": [],
      "metadata": {
        "id": "ChIRo6A8tqoW"
      },
      "id": "ChIRo6A8tqoW",
      "execution_count": null,
      "outputs": []
    },
    {
      "cell_type": "markdown",
      "id": "1540dbeb",
      "metadata": {
        "id": "1540dbeb"
      },
      "source": [
        "## 2. Limpieza y Enriquecimiento de los Datos\n",
        "\n",
        "En esta sección, eliminamos filas con `CustomerID` nulo (si existieran) y registros con cantidades negativas o cero. Además, crearemos una nueva columna `TotalPrice` que es el producto de `Quantity` y `UnitPrice`."
      ]
    },
    {
      "cell_type": "markdown",
      "source": [
        "Eliminar las filas con CustomerID nulo"
      ],
      "metadata": {
        "id": "laDeWs6It16j"
      },
      "id": "laDeWs6It16j"
    },
    {
      "cell_type": "code",
      "source": [
        "df.dropna(subset=['CustomerID'], inplace=True)\n",
        "print(f\"número de filas después de eliminar nulos en CustomerID: {len(df)}\")\n"
      ],
      "metadata": {
        "id": "j-XmnTj9xX97",
        "outputId": "1389f5a9-5dc0-4ac4-94a8-b670d4045f3f",
        "colab": {
          "base_uri": "https://localhost:8080/"
        }
      },
      "id": "j-XmnTj9xX97",
      "execution_count": null,
      "outputs": [
        {
          "output_type": "stream",
          "name": "stdout",
          "text": [
            "número de filas después de eliminar nulos en CustomerID: 397924\n"
          ]
        }
      ]
    },
    {
      "cell_type": "code",
      "source": [],
      "metadata": {
        "id": "x_2Euz9ruA35",
        "outputId": "a8ef824e-2371-4ccc-e611-8c01bbef6f60",
        "colab": {
          "base_uri": "https://localhost:8080/"
        }
      },
      "id": "x_2Euz9ruA35",
      "execution_count": null,
      "outputs": [
        {
          "output_type": "stream",
          "name": "stdout",
          "text": [
            "número de filas después de eliminar filas con Quantity <= 0: 397924\n"
          ]
        }
      ]
    },
    {
      "cell_type": "markdown",
      "source": [
        "Eliminar registros con Quantity <= 0"
      ],
      "metadata": {
        "id": "4r3NWfcXt69r"
      },
      "id": "4r3NWfcXt69r"
    },
    {
      "cell_type": "code",
      "source": [
        "df=df[df['Quantity']>0]\n",
        "print(f\"número de filas después de eliminar filas con Quantity <= 0: {len(df)}\")"
      ],
      "metadata": {
        "id": "Vj1mP1LeuBIP",
        "outputId": "3e799972-3266-474e-bc21-24aca8046619",
        "colab": {
          "base_uri": "https://localhost:8080/"
        }
      },
      "id": "Vj1mP1LeuBIP",
      "execution_count": null,
      "outputs": [
        {
          "output_type": "stream",
          "name": "stdout",
          "text": [
            "número de filas después de eliminar filas con Quantity <= 0: 397924\n"
          ]
        }
      ]
    },
    {
      "cell_type": "markdown",
      "source": [
        "Asegure que Price este en float sino lo esta cambielo usando esto.   df[\"UnitPrice\"] = df[\"UnitPrice\"].apply(lambda x:x.replace(\",\",\".\"))\n",
        "df[\"UnitPrice\"] = df[\"UnitPrice\"].astype(float)\n",
        "\n",
        "¿Que estoy haciendo ?"
      ],
      "metadata": {
        "id": "dPpe2D0Ezbh6"
      },
      "id": "dPpe2D0Ezbh6"
    },
    {
      "cell_type": "code",
      "source": [
        "df[\"UnitPrice\"] = df[\"UnitPrice\"].apply(lambda x: str(x).replace(\",\",\".\"))\n",
        "df[\"UnitPrice\"] = df[\"UnitPrice\"].astype(float)\n",
        "print(df['UnitPrice'].dtype)"
      ],
      "metadata": {
        "id": "jJw56kNZzcGE",
        "outputId": "5b48d00f-8a5a-41a4-e7b3-a5299a3f7b71",
        "colab": {
          "base_uri": "https://localhost:8080/"
        }
      },
      "id": "jJw56kNZzcGE",
      "execution_count": null,
      "outputs": [
        {
          "output_type": "stream",
          "name": "stdout",
          "text": [
            "float64\n"
          ]
        }
      ]
    },
    {
      "cell_type": "markdown",
      "source": [
        "Crear columna TotalPrice"
      ],
      "metadata": {
        "id": "PjJq63xct7bJ"
      },
      "id": "PjJq63xct7bJ"
    },
    {
      "cell_type": "code",
      "execution_count": null,
      "id": "47138c8f",
      "metadata": {
        "id": "47138c8f",
        "outputId": "41a06d53-33e6-4465-b981-761e248c8144",
        "colab": {
          "base_uri": "https://localhost:8080/"
        }
      },
      "outputs": [
        {
          "output_type": "stream",
          "name": "stdout",
          "text": [
            "   Quantity  UnitPrice  TotalPrice\n",
            "0         6       2.55       15.30\n",
            "1         6       3.39       20.34\n",
            "2         8       2.75       22.00\n",
            "3         6       3.39       20.34\n",
            "4         6       3.39       20.34\n"
          ]
        }
      ],
      "source": [
        "df['TotalPrice'] = df['Quantity'] * df['UnitPrice']\n",
        "print(df[['Quantity', 'UnitPrice', 'TotalPrice' ]].head())"
      ]
    },
    {
      "cell_type": "markdown",
      "source": [],
      "metadata": {
        "id": "ZZQpb4UWzacl"
      },
      "id": "ZZQpb4UWzacl"
    },
    {
      "cell_type": "markdown",
      "id": "3430a2f4",
      "metadata": {
        "id": "3430a2f4"
      },
      "source": [
        "## 3. Cálculo de las Métricas RFM\n",
        "\n",
        "Calcularemos las siguientes métricas para cada cliente:\n",
        "\n",
        "- **Recencia (R):** Días transcurridos desde la última compra hasta la fecha de corte.\n",
        "- **Frecuencia (F):** Número de facturas únicas realizadas por el cliente.\n",
        "- **Monetario (M):** Total gastado por el cliente.\n",
        "\n",
        "Primero, definamos la fecha de snapshot (fecha de corte)."
      ]
    },
    {
      "cell_type": "markdown",
      "source": [
        "Definir la fecha de snapshot (por ejemplo, un día después del último registro)\n"
      ],
      "metadata": {
        "id": "Z9ucBplZuJqm"
      },
      "id": "Z9ucBplZuJqm"
    },
    {
      "cell_type": "code",
      "source": [
        "df['InvoiceDate'] = pd.to_datetime(df['InvoiceDate'])\n",
        "\n",
        "snapshot_date = df['InvoiceDate'].max() + dt.timedelta(days=1)\n",
        "print(f\"Fecha de Snapshot: {snapshot_date}\")\n",
        "\n",
        "rfm_r = df.groupby('CustomerID')['InvoiceDate'].max().reset_index()\n",
        "rfm_r['Recency'] = (snapshot_date - rfm_r['InvoiceDate']).dt.days\n",
        "rfm_r = rfm_r[['CustomerID', 'Recency']]\n",
        "print(\"\\nRecencia (R):\\n\", rfm_r.head())\n",
        "\n",
        "rfm_f = df.groupby('CustomerID')['InvoiceNo'].nunique().reset_index()\n",
        "rfm_f.rename(columns={'InvoiceNo': 'Frequency'}, inplace=True)\n",
        "print(\"\\nFrecuencia (F):\\n\", rfm_f.head())\n",
        "\n",
        "rfm_m = df.groupby('CustomerID')['TotalPrice'].sum().reset_index()\n",
        "rfm_m.rename(columns={'TotalPrice': 'Monetary'}, inplace=True)\n",
        "print(\"\\nMonetario (M):\\n\", rfm_m.head())\n",
        "\n",
        "rfm_table = rfm_r.merge(rfm_f, on='CustomerID', how= 'inner').merge(rfm_m, on='CustomerID', how= 'inner')\n",
        "print(\"\\nTabla RFM Combinada:\\n\", rfm_table.head())"
      ],
      "metadata": {
        "id": "NuEPR9NsuMjP",
        "outputId": "014004bb-ff26-4581-b189-c79e72903c79",
        "colab": {
          "base_uri": "https://localhost:8080/"
        }
      },
      "id": "NuEPR9NsuMjP",
      "execution_count": null,
      "outputs": [
        {
          "output_type": "stream",
          "name": "stderr",
          "text": [
            "<ipython-input-12-0a179b29079d>:1: UserWarning: Could not infer format, so each element will be parsed individually, falling back to `dateutil`. To ensure parsing is consistent and as-expected, please specify a format.\n",
            "  df['InvoiceDate'] = pd.to_datetime(df['InvoiceDate'])\n"
          ]
        },
        {
          "output_type": "stream",
          "name": "stdout",
          "text": [
            "Fecha de Snapshot: 2011-12-10 12:50:00\n",
            "\n",
            "Recencia (R):\n",
            "    CustomerID  Recency\n",
            "0     12346.0      326\n",
            "1     12347.0        2\n",
            "2     12348.0       75\n",
            "3     12349.0       19\n",
            "4     12350.0      310\n",
            "\n",
            "Frecuencia (F):\n",
            "    CustomerID  Frequency\n",
            "0     12346.0          1\n",
            "1     12347.0          7\n",
            "2     12348.0          4\n",
            "3     12349.0          1\n",
            "4     12350.0          1\n",
            "\n",
            "Monetario (M):\n",
            "    CustomerID  Monetary\n",
            "0     12346.0  77183.60\n",
            "1     12347.0   4310.00\n",
            "2     12348.0   1797.24\n",
            "3     12349.0   1757.55\n",
            "4     12350.0    334.40\n",
            "\n",
            "Tabla RFM Combinada:\n",
            "    CustomerID  Recency  Frequency  Monetary\n",
            "0     12346.0      326          1  77183.60\n",
            "1     12347.0        2          7   4310.00\n",
            "2     12348.0       75          4   1797.24\n",
            "3     12349.0       19          1   1757.55\n",
            "4     12350.0      310          1    334.40\n"
          ]
        }
      ]
    },
    {
      "cell_type": "markdown",
      "id": "0f9a9c53",
      "metadata": {
        "id": "0f9a9c53"
      },
      "source": [
        "### 3.1 Agrupación por Cliente y Cálculo de R, F y M\n",
        "\n",
        "Agruparemos el DataFrame por `CustomerID` y calcularemos:\n",
        "\n",
        "- **Recency:** Días entre el `snapshot_date` y la última `InvoiceDate` de cada cliente.\n",
        "- **Frecuencia:** Número único de facturas (`InvoiceNo`).\n",
        "- **Monetario:** Suma de `TotalPrice`.\n",
        "\n",
        "Utilice grupby con agg (lambda x: (snapshot_date - x.max()).days, nunique, sum )"
      ]
    },
    {
      "cell_type": "code",
      "source": [
        "rfm_table = df.groupby('CustomerID').agg(\n",
        "    Recency=('InvoiceDate', lambda x: (snapshot_date - x.max()).days),\n",
        "    Frequency=('InvoiceNo', 'nunique'),\n",
        "    Monetary=('TotalPrice', 'sum')\n",
        ")\n",
        "print(rfm_table.head())"
      ],
      "metadata": {
        "id": "0UiGi9U1vL0B",
        "outputId": "8d17f051-edd0-4196-8608-16133cc2ec68",
        "colab": {
          "base_uri": "https://localhost:8080/"
        }
      },
      "id": "0UiGi9U1vL0B",
      "execution_count": null,
      "outputs": [
        {
          "output_type": "stream",
          "name": "stdout",
          "text": [
            "            Recency  Frequency  Monetary\n",
            "CustomerID                              \n",
            "12346.0         326          1  77183.60\n",
            "12347.0           2          7   4310.00\n",
            "12348.0          75          4   1797.24\n",
            "12349.0          19          1   1757.55\n",
            "12350.0         310          1    334.40\n"
          ]
        }
      ]
    },
    {
      "cell_type": "code",
      "source": [],
      "metadata": {
        "id": "3ajLChfXvJB_"
      },
      "id": "3ajLChfXvJB_",
      "execution_count": null,
      "outputs": []
    },
    {
      "cell_type": "code",
      "source": [],
      "metadata": {
        "colab": {
          "base_uri": "https://localhost:8080/",
          "height": 287
        },
        "id": "fwR6sWyBwXO7",
        "outputId": "e9daf9bd-7614-4e65-e8e3-52333530ab76"
      },
      "id": "fwR6sWyBwXO7",
      "execution_count": null,
      "outputs": [
        {
          "output_type": "error",
          "ename": "AttributeError",
          "evalue": "'float' object has no attribute 'replace'",
          "traceback": [
            "\u001b[0;31m---------------------------------------------------------------------------\u001b[0m",
            "\u001b[0;31mAttributeError\u001b[0m                            Traceback (most recent call last)",
            "\u001b[0;32m<ipython-input-56-fda28ad83628>\u001b[0m in \u001b[0;36m<cell line: 0>\u001b[0;34m()\u001b[0m\n\u001b[0;32m----> 1\u001b[0;31m \u001b[0mdf\u001b[0m\u001b[0;34m[\u001b[0m\u001b[0;34m\"UnitPrice\"\u001b[0m\u001b[0;34m]\u001b[0m \u001b[0;34m=\u001b[0m \u001b[0mdf\u001b[0m\u001b[0;34m[\u001b[0m\u001b[0;34m\"UnitPrice\"\u001b[0m\u001b[0;34m]\u001b[0m\u001b[0;34m.\u001b[0m\u001b[0mapply\u001b[0m\u001b[0;34m(\u001b[0m\u001b[0;32mlambda\u001b[0m \u001b[0mx\u001b[0m\u001b[0;34m:\u001b[0m\u001b[0mx\u001b[0m\u001b[0;34m.\u001b[0m\u001b[0mreplace\u001b[0m\u001b[0;34m(\u001b[0m\u001b[0;34m\",\"\u001b[0m\u001b[0;34m,\u001b[0m\u001b[0;34m\".\"\u001b[0m\u001b[0;34m)\u001b[0m\u001b[0;34m)\u001b[0m\u001b[0;34m\u001b[0m\u001b[0;34m\u001b[0m\u001b[0m\n\u001b[0m\u001b[1;32m      2\u001b[0m \u001b[0mdf\u001b[0m\u001b[0;34m[\u001b[0m\u001b[0;34m\"UnitPrice\"\u001b[0m\u001b[0;34m]\u001b[0m \u001b[0;34m=\u001b[0m \u001b[0mdf\u001b[0m\u001b[0;34m[\u001b[0m\u001b[0;34m\"UnitPrice\"\u001b[0m\u001b[0;34m]\u001b[0m\u001b[0;34m.\u001b[0m\u001b[0mastype\u001b[0m\u001b[0;34m(\u001b[0m\u001b[0mfloat\u001b[0m\u001b[0;34m)\u001b[0m\u001b[0;34m\u001b[0m\u001b[0;34m\u001b[0m\u001b[0m\n",
            "\u001b[0;32m/usr/local/lib/python3.11/dist-packages/pandas/core/series.py\u001b[0m in \u001b[0;36mapply\u001b[0;34m(self, func, convert_dtype, args, by_row, **kwargs)\u001b[0m\n\u001b[1;32m   4922\u001b[0m             \u001b[0margs\u001b[0m\u001b[0;34m=\u001b[0m\u001b[0margs\u001b[0m\u001b[0;34m,\u001b[0m\u001b[0;34m\u001b[0m\u001b[0;34m\u001b[0m\u001b[0m\n\u001b[1;32m   4923\u001b[0m             \u001b[0mkwargs\u001b[0m\u001b[0;34m=\u001b[0m\u001b[0mkwargs\u001b[0m\u001b[0;34m,\u001b[0m\u001b[0;34m\u001b[0m\u001b[0;34m\u001b[0m\u001b[0m\n\u001b[0;32m-> 4924\u001b[0;31m         ).apply()\n\u001b[0m\u001b[1;32m   4925\u001b[0m \u001b[0;34m\u001b[0m\u001b[0m\n\u001b[1;32m   4926\u001b[0m     def _reindex_indexer(\n",
            "\u001b[0;32m/usr/local/lib/python3.11/dist-packages/pandas/core/apply.py\u001b[0m in \u001b[0;36mapply\u001b[0;34m(self)\u001b[0m\n\u001b[1;32m   1425\u001b[0m \u001b[0;34m\u001b[0m\u001b[0m\n\u001b[1;32m   1426\u001b[0m         \u001b[0;31m# self.func is Callable\u001b[0m\u001b[0;34m\u001b[0m\u001b[0;34m\u001b[0m\u001b[0m\n\u001b[0;32m-> 1427\u001b[0;31m         \u001b[0;32mreturn\u001b[0m \u001b[0mself\u001b[0m\u001b[0;34m.\u001b[0m\u001b[0mapply_standard\u001b[0m\u001b[0;34m(\u001b[0m\u001b[0;34m)\u001b[0m\u001b[0;34m\u001b[0m\u001b[0;34m\u001b[0m\u001b[0m\n\u001b[0m\u001b[1;32m   1428\u001b[0m \u001b[0;34m\u001b[0m\u001b[0m\n\u001b[1;32m   1429\u001b[0m     \u001b[0;32mdef\u001b[0m \u001b[0magg\u001b[0m\u001b[0;34m(\u001b[0m\u001b[0mself\u001b[0m\u001b[0;34m)\u001b[0m\u001b[0;34m:\u001b[0m\u001b[0;34m\u001b[0m\u001b[0;34m\u001b[0m\u001b[0m\n",
            "\u001b[0;32m/usr/local/lib/python3.11/dist-packages/pandas/core/apply.py\u001b[0m in \u001b[0;36mapply_standard\u001b[0;34m(self)\u001b[0m\n\u001b[1;32m   1505\u001b[0m         \u001b[0;31m#  Categorical (GH51645).\u001b[0m\u001b[0;34m\u001b[0m\u001b[0;34m\u001b[0m\u001b[0m\n\u001b[1;32m   1506\u001b[0m         \u001b[0maction\u001b[0m \u001b[0;34m=\u001b[0m \u001b[0;34m\"ignore\"\u001b[0m \u001b[0;32mif\u001b[0m \u001b[0misinstance\u001b[0m\u001b[0;34m(\u001b[0m\u001b[0mobj\u001b[0m\u001b[0;34m.\u001b[0m\u001b[0mdtype\u001b[0m\u001b[0;34m,\u001b[0m \u001b[0mCategoricalDtype\u001b[0m\u001b[0;34m)\u001b[0m \u001b[0;32melse\u001b[0m \u001b[0;32mNone\u001b[0m\u001b[0;34m\u001b[0m\u001b[0;34m\u001b[0m\u001b[0m\n\u001b[0;32m-> 1507\u001b[0;31m         mapped = obj._map_values(\n\u001b[0m\u001b[1;32m   1508\u001b[0m             \u001b[0mmapper\u001b[0m\u001b[0;34m=\u001b[0m\u001b[0mcurried\u001b[0m\u001b[0;34m,\u001b[0m \u001b[0mna_action\u001b[0m\u001b[0;34m=\u001b[0m\u001b[0maction\u001b[0m\u001b[0;34m,\u001b[0m \u001b[0mconvert\u001b[0m\u001b[0;34m=\u001b[0m\u001b[0mself\u001b[0m\u001b[0;34m.\u001b[0m\u001b[0mconvert_dtype\u001b[0m\u001b[0;34m\u001b[0m\u001b[0;34m\u001b[0m\u001b[0m\n\u001b[1;32m   1509\u001b[0m         )\n",
            "\u001b[0;32m/usr/local/lib/python3.11/dist-packages/pandas/core/base.py\u001b[0m in \u001b[0;36m_map_values\u001b[0;34m(self, mapper, na_action, convert)\u001b[0m\n\u001b[1;32m    919\u001b[0m             \u001b[0;32mreturn\u001b[0m \u001b[0marr\u001b[0m\u001b[0;34m.\u001b[0m\u001b[0mmap\u001b[0m\u001b[0;34m(\u001b[0m\u001b[0mmapper\u001b[0m\u001b[0;34m,\u001b[0m \u001b[0mna_action\u001b[0m\u001b[0;34m=\u001b[0m\u001b[0mna_action\u001b[0m\u001b[0;34m)\u001b[0m\u001b[0;34m\u001b[0m\u001b[0;34m\u001b[0m\u001b[0m\n\u001b[1;32m    920\u001b[0m \u001b[0;34m\u001b[0m\u001b[0m\n\u001b[0;32m--> 921\u001b[0;31m         \u001b[0;32mreturn\u001b[0m \u001b[0malgorithms\u001b[0m\u001b[0;34m.\u001b[0m\u001b[0mmap_array\u001b[0m\u001b[0;34m(\u001b[0m\u001b[0marr\u001b[0m\u001b[0;34m,\u001b[0m \u001b[0mmapper\u001b[0m\u001b[0;34m,\u001b[0m \u001b[0mna_action\u001b[0m\u001b[0;34m=\u001b[0m\u001b[0mna_action\u001b[0m\u001b[0;34m,\u001b[0m \u001b[0mconvert\u001b[0m\u001b[0;34m=\u001b[0m\u001b[0mconvert\u001b[0m\u001b[0;34m)\u001b[0m\u001b[0;34m\u001b[0m\u001b[0;34m\u001b[0m\u001b[0m\n\u001b[0m\u001b[1;32m    922\u001b[0m \u001b[0;34m\u001b[0m\u001b[0m\n\u001b[1;32m    923\u001b[0m     \u001b[0;34m@\u001b[0m\u001b[0mfinal\u001b[0m\u001b[0;34m\u001b[0m\u001b[0;34m\u001b[0m\u001b[0m\n",
            "\u001b[0;32m/usr/local/lib/python3.11/dist-packages/pandas/core/algorithms.py\u001b[0m in \u001b[0;36mmap_array\u001b[0;34m(arr, mapper, na_action, convert)\u001b[0m\n\u001b[1;32m   1741\u001b[0m     \u001b[0mvalues\u001b[0m \u001b[0;34m=\u001b[0m \u001b[0marr\u001b[0m\u001b[0;34m.\u001b[0m\u001b[0mastype\u001b[0m\u001b[0;34m(\u001b[0m\u001b[0mobject\u001b[0m\u001b[0;34m,\u001b[0m \u001b[0mcopy\u001b[0m\u001b[0;34m=\u001b[0m\u001b[0;32mFalse\u001b[0m\u001b[0;34m)\u001b[0m\u001b[0;34m\u001b[0m\u001b[0;34m\u001b[0m\u001b[0m\n\u001b[1;32m   1742\u001b[0m     \u001b[0;32mif\u001b[0m \u001b[0mna_action\u001b[0m \u001b[0;32mis\u001b[0m \u001b[0;32mNone\u001b[0m\u001b[0;34m:\u001b[0m\u001b[0;34m\u001b[0m\u001b[0;34m\u001b[0m\u001b[0m\n\u001b[0;32m-> 1743\u001b[0;31m         \u001b[0;32mreturn\u001b[0m \u001b[0mlib\u001b[0m\u001b[0;34m.\u001b[0m\u001b[0mmap_infer\u001b[0m\u001b[0;34m(\u001b[0m\u001b[0mvalues\u001b[0m\u001b[0;34m,\u001b[0m \u001b[0mmapper\u001b[0m\u001b[0;34m,\u001b[0m \u001b[0mconvert\u001b[0m\u001b[0;34m=\u001b[0m\u001b[0mconvert\u001b[0m\u001b[0;34m)\u001b[0m\u001b[0;34m\u001b[0m\u001b[0;34m\u001b[0m\u001b[0m\n\u001b[0m\u001b[1;32m   1744\u001b[0m     \u001b[0;32melse\u001b[0m\u001b[0;34m:\u001b[0m\u001b[0;34m\u001b[0m\u001b[0;34m\u001b[0m\u001b[0m\n\u001b[1;32m   1745\u001b[0m         return lib.map_infer_mask(\n",
            "\u001b[0;32mlib.pyx\u001b[0m in \u001b[0;36mpandas._libs.lib.map_infer\u001b[0;34m()\u001b[0m\n",
            "\u001b[0;32m<ipython-input-56-fda28ad83628>\u001b[0m in \u001b[0;36m<lambda>\u001b[0;34m(x)\u001b[0m\n\u001b[0;32m----> 1\u001b[0;31m \u001b[0mdf\u001b[0m\u001b[0;34m[\u001b[0m\u001b[0;34m\"UnitPrice\"\u001b[0m\u001b[0;34m]\u001b[0m \u001b[0;34m=\u001b[0m \u001b[0mdf\u001b[0m\u001b[0;34m[\u001b[0m\u001b[0;34m\"UnitPrice\"\u001b[0m\u001b[0;34m]\u001b[0m\u001b[0;34m.\u001b[0m\u001b[0mapply\u001b[0m\u001b[0;34m(\u001b[0m\u001b[0;32mlambda\u001b[0m \u001b[0mx\u001b[0m\u001b[0;34m:\u001b[0m\u001b[0mx\u001b[0m\u001b[0;34m.\u001b[0m\u001b[0mreplace\u001b[0m\u001b[0;34m(\u001b[0m\u001b[0;34m\",\"\u001b[0m\u001b[0;34m,\u001b[0m\u001b[0;34m\".\"\u001b[0m\u001b[0;34m)\u001b[0m\u001b[0;34m)\u001b[0m\u001b[0;34m\u001b[0m\u001b[0;34m\u001b[0m\u001b[0m\n\u001b[0m\u001b[1;32m      2\u001b[0m \u001b[0mdf\u001b[0m\u001b[0;34m[\u001b[0m\u001b[0;34m\"UnitPrice\"\u001b[0m\u001b[0;34m]\u001b[0m \u001b[0;34m=\u001b[0m \u001b[0mdf\u001b[0m\u001b[0;34m[\u001b[0m\u001b[0;34m\"UnitPrice\"\u001b[0m\u001b[0;34m]\u001b[0m\u001b[0;34m.\u001b[0m\u001b[0mastype\u001b[0m\u001b[0;34m(\u001b[0m\u001b[0mfloat\u001b[0m\u001b[0;34m)\u001b[0m\u001b[0;34m\u001b[0m\u001b[0;34m\u001b[0m\u001b[0m\n",
            "\u001b[0;31mAttributeError\u001b[0m: 'float' object has no attribute 'replace'"
          ]
        }
      ]
    },
    {
      "cell_type": "code",
      "source": [],
      "metadata": {
        "id": "dB1j3oyavEOJ"
      },
      "id": "dB1j3oyavEOJ",
      "execution_count": null,
      "outputs": []
    },
    {
      "cell_type": "code",
      "execution_count": null,
      "id": "7aa32e43",
      "metadata": {
        "id": "7aa32e43"
      },
      "outputs": [],
      "source": []
    },
    {
      "cell_type": "markdown",
      "source": [
        "Renombre las Columnas de manera correspondiente"
      ],
      "metadata": {
        "id": "e_v6ANNhu0d-"
      },
      "id": "e_v6ANNhu0d-"
    },
    {
      "cell_type": "code",
      "source": [
        "df.rename(columns={'Frecuencia': 'Recency', 'Cantidad': 'Frecuency', 'Monto': 'Monetary'}, inplace=True)\n",
        "df.rename(columns={df.columns[1]: 'Recency', df.columns[2]: 'Frecuency', df.columns[3]: 'Monetary'}, inplace=True)\n",
        "print(df.head())"
      ],
      "metadata": {
        "id": "HK360Bjcu7BR",
        "outputId": "6ca2fe13-ff67-44b8-8252-0db44a8663a7",
        "colab": {
          "base_uri": "https://localhost:8080/"
        }
      },
      "id": "HK360Bjcu7BR",
      "execution_count": null,
      "outputs": [
        {
          "output_type": "stream",
          "name": "stdout",
          "text": [
            "  InvoiceNo Recency                            Frecuency  Monetary  \\\n",
            "0    536365  85123A   WHITE HANGING HEART T-LIGHT HOLDER         6   \n",
            "1    536365   71053                  WHITE METAL LANTERN         6   \n",
            "2    536365  84406B       CREAM CUPID HEARTS COAT HANGER         8   \n",
            "3    536365  84029G  KNITTED UNION FLAG HOT WATER BOTTLE         6   \n",
            "4    536365  84029E       RED WOOLLY HOTTIE WHITE HEART.         6   \n",
            "\n",
            "          InvoiceDate  UnitPrice  CustomerID         Country  TotalPrice  \n",
            "0 2010-12-01 08:26:00       2.55     17850.0  United Kingdom       15.30  \n",
            "1 2010-12-01 08:26:00       3.39     17850.0  United Kingdom       20.34  \n",
            "2 2010-12-01 08:26:00       2.75     17850.0  United Kingdom       22.00  \n",
            "3 2010-12-01 08:26:00       3.39     17850.0  United Kingdom       20.34  \n",
            "4 2010-12-01 08:26:00       3.39     17850.0  United Kingdom       20.34  \n"
          ]
        }
      ]
    },
    {
      "cell_type": "code",
      "source": [],
      "metadata": {
        "colab": {
          "base_uri": "https://localhost:8080/",
          "height": 455
        },
        "id": "ab_NIgwSxExF",
        "outputId": "d39d6897-8673-48de-bcd6-afb5cefa04b3"
      },
      "id": "ab_NIgwSxExF",
      "execution_count": null,
      "outputs": [
        {
          "output_type": "execute_result",
          "data": {
            "text/plain": [
              "            Recency  Frequency  Monetary\n",
              "CustomerID                              \n",
              "12346.0         326          2      0.00\n",
              "12347.0           2          7   4310.00\n",
              "12348.0          75          4   1797.24\n",
              "12349.0          19          1   1757.55\n",
              "12350.0         310          1    334.40\n",
              "...             ...        ...       ...\n",
              "18280.0         278          1    180.60\n",
              "18281.0         181          1     80.82\n",
              "18282.0           8          3    176.60\n",
              "18283.0           4         16   2094.88\n",
              "18287.0          43          3   1837.28\n",
              "\n",
              "[4372 rows x 3 columns]"
            ],
            "text/html": [
              "\n",
              "  <div id=\"df-11251f0d-744a-44d4-bb2a-c146d4be728b\" class=\"colab-df-container\">\n",
              "    <div>\n",
              "<style scoped>\n",
              "    .dataframe tbody tr th:only-of-type {\n",
              "        vertical-align: middle;\n",
              "    }\n",
              "\n",
              "    .dataframe tbody tr th {\n",
              "        vertical-align: top;\n",
              "    }\n",
              "\n",
              "    .dataframe thead th {\n",
              "        text-align: right;\n",
              "    }\n",
              "</style>\n",
              "<table border=\"1\" class=\"dataframe\">\n",
              "  <thead>\n",
              "    <tr style=\"text-align: right;\">\n",
              "      <th></th>\n",
              "      <th>Recency</th>\n",
              "      <th>Frequency</th>\n",
              "      <th>Monetary</th>\n",
              "    </tr>\n",
              "    <tr>\n",
              "      <th>CustomerID</th>\n",
              "      <th></th>\n",
              "      <th></th>\n",
              "      <th></th>\n",
              "    </tr>\n",
              "  </thead>\n",
              "  <tbody>\n",
              "    <tr>\n",
              "      <th>12346.0</th>\n",
              "      <td>326</td>\n",
              "      <td>2</td>\n",
              "      <td>0.00</td>\n",
              "    </tr>\n",
              "    <tr>\n",
              "      <th>12347.0</th>\n",
              "      <td>2</td>\n",
              "      <td>7</td>\n",
              "      <td>4310.00</td>\n",
              "    </tr>\n",
              "    <tr>\n",
              "      <th>12348.0</th>\n",
              "      <td>75</td>\n",
              "      <td>4</td>\n",
              "      <td>1797.24</td>\n",
              "    </tr>\n",
              "    <tr>\n",
              "      <th>12349.0</th>\n",
              "      <td>19</td>\n",
              "      <td>1</td>\n",
              "      <td>1757.55</td>\n",
              "    </tr>\n",
              "    <tr>\n",
              "      <th>12350.0</th>\n",
              "      <td>310</td>\n",
              "      <td>1</td>\n",
              "      <td>334.40</td>\n",
              "    </tr>\n",
              "    <tr>\n",
              "      <th>...</th>\n",
              "      <td>...</td>\n",
              "      <td>...</td>\n",
              "      <td>...</td>\n",
              "    </tr>\n",
              "    <tr>\n",
              "      <th>18280.0</th>\n",
              "      <td>278</td>\n",
              "      <td>1</td>\n",
              "      <td>180.60</td>\n",
              "    </tr>\n",
              "    <tr>\n",
              "      <th>18281.0</th>\n",
              "      <td>181</td>\n",
              "      <td>1</td>\n",
              "      <td>80.82</td>\n",
              "    </tr>\n",
              "    <tr>\n",
              "      <th>18282.0</th>\n",
              "      <td>8</td>\n",
              "      <td>3</td>\n",
              "      <td>176.60</td>\n",
              "    </tr>\n",
              "    <tr>\n",
              "      <th>18283.0</th>\n",
              "      <td>4</td>\n",
              "      <td>16</td>\n",
              "      <td>2094.88</td>\n",
              "    </tr>\n",
              "    <tr>\n",
              "      <th>18287.0</th>\n",
              "      <td>43</td>\n",
              "      <td>3</td>\n",
              "      <td>1837.28</td>\n",
              "    </tr>\n",
              "  </tbody>\n",
              "</table>\n",
              "<p>4372 rows × 3 columns</p>\n",
              "</div>\n",
              "    <div class=\"colab-df-buttons\">\n",
              "\n",
              "  <div class=\"colab-df-container\">\n",
              "    <button class=\"colab-df-convert\" onclick=\"convertToInteractive('df-11251f0d-744a-44d4-bb2a-c146d4be728b')\"\n",
              "            title=\"Convert this dataframe to an interactive table.\"\n",
              "            style=\"display:none;\">\n",
              "\n",
              "  <svg xmlns=\"http://www.w3.org/2000/svg\" height=\"24px\" viewBox=\"0 -960 960 960\">\n",
              "    <path d=\"M120-120v-720h720v720H120Zm60-500h600v-160H180v160Zm220 220h160v-160H400v160Zm0 220h160v-160H400v160ZM180-400h160v-160H180v160Zm440 0h160v-160H620v160ZM180-180h160v-160H180v160Zm440 0h160v-160H620v160Z\"/>\n",
              "  </svg>\n",
              "    </button>\n",
              "\n",
              "  <style>\n",
              "    .colab-df-container {\n",
              "      display:flex;\n",
              "      gap: 12px;\n",
              "    }\n",
              "\n",
              "    .colab-df-convert {\n",
              "      background-color: #E8F0FE;\n",
              "      border: none;\n",
              "      border-radius: 50%;\n",
              "      cursor: pointer;\n",
              "      display: none;\n",
              "      fill: #1967D2;\n",
              "      height: 32px;\n",
              "      padding: 0 0 0 0;\n",
              "      width: 32px;\n",
              "    }\n",
              "\n",
              "    .colab-df-convert:hover {\n",
              "      background-color: #E2EBFA;\n",
              "      box-shadow: 0px 1px 2px rgba(60, 64, 67, 0.3), 0px 1px 3px 1px rgba(60, 64, 67, 0.15);\n",
              "      fill: #174EA6;\n",
              "    }\n",
              "\n",
              "    .colab-df-buttons div {\n",
              "      margin-bottom: 4px;\n",
              "    }\n",
              "\n",
              "    [theme=dark] .colab-df-convert {\n",
              "      background-color: #3B4455;\n",
              "      fill: #D2E3FC;\n",
              "    }\n",
              "\n",
              "    [theme=dark] .colab-df-convert:hover {\n",
              "      background-color: #434B5C;\n",
              "      box-shadow: 0px 1px 3px 1px rgba(0, 0, 0, 0.15);\n",
              "      filter: drop-shadow(0px 1px 2px rgba(0, 0, 0, 0.3));\n",
              "      fill: #FFFFFF;\n",
              "    }\n",
              "  </style>\n",
              "\n",
              "    <script>\n",
              "      const buttonEl =\n",
              "        document.querySelector('#df-11251f0d-744a-44d4-bb2a-c146d4be728b button.colab-df-convert');\n",
              "      buttonEl.style.display =\n",
              "        google.colab.kernel.accessAllowed ? 'block' : 'none';\n",
              "\n",
              "      async function convertToInteractive(key) {\n",
              "        const element = document.querySelector('#df-11251f0d-744a-44d4-bb2a-c146d4be728b');\n",
              "        const dataTable =\n",
              "          await google.colab.kernel.invokeFunction('convertToInteractive',\n",
              "                                                    [key], {});\n",
              "        if (!dataTable) return;\n",
              "\n",
              "        const docLinkHtml = 'Like what you see? Visit the ' +\n",
              "          '<a target=\"_blank\" href=https://colab.research.google.com/notebooks/data_table.ipynb>data table notebook</a>'\n",
              "          + ' to learn more about interactive tables.';\n",
              "        element.innerHTML = '';\n",
              "        dataTable['output_type'] = 'display_data';\n",
              "        await google.colab.output.renderOutput(dataTable, element);\n",
              "        const docLink = document.createElement('div');\n",
              "        docLink.innerHTML = docLinkHtml;\n",
              "        element.appendChild(docLink);\n",
              "      }\n",
              "    </script>\n",
              "  </div>\n",
              "\n",
              "\n",
              "<div id=\"df-6837d182-1739-4eb7-9777-fc5b615f195c\">\n",
              "  <button class=\"colab-df-quickchart\" onclick=\"quickchart('df-6837d182-1739-4eb7-9777-fc5b615f195c')\"\n",
              "            title=\"Suggest charts\"\n",
              "            style=\"display:none;\">\n",
              "\n",
              "<svg xmlns=\"http://www.w3.org/2000/svg\" height=\"24px\"viewBox=\"0 0 24 24\"\n",
              "     width=\"24px\">\n",
              "    <g>\n",
              "        <path d=\"M19 3H5c-1.1 0-2 .9-2 2v14c0 1.1.9 2 2 2h14c1.1 0 2-.9 2-2V5c0-1.1-.9-2-2-2zM9 17H7v-7h2v7zm4 0h-2V7h2v10zm4 0h-2v-4h2v4z\"/>\n",
              "    </g>\n",
              "</svg>\n",
              "  </button>\n",
              "\n",
              "<style>\n",
              "  .colab-df-quickchart {\n",
              "      --bg-color: #E8F0FE;\n",
              "      --fill-color: #1967D2;\n",
              "      --hover-bg-color: #E2EBFA;\n",
              "      --hover-fill-color: #174EA6;\n",
              "      --disabled-fill-color: #AAA;\n",
              "      --disabled-bg-color: #DDD;\n",
              "  }\n",
              "\n",
              "  [theme=dark] .colab-df-quickchart {\n",
              "      --bg-color: #3B4455;\n",
              "      --fill-color: #D2E3FC;\n",
              "      --hover-bg-color: #434B5C;\n",
              "      --hover-fill-color: #FFFFFF;\n",
              "      --disabled-bg-color: #3B4455;\n",
              "      --disabled-fill-color: #666;\n",
              "  }\n",
              "\n",
              "  .colab-df-quickchart {\n",
              "    background-color: var(--bg-color);\n",
              "    border: none;\n",
              "    border-radius: 50%;\n",
              "    cursor: pointer;\n",
              "    display: none;\n",
              "    fill: var(--fill-color);\n",
              "    height: 32px;\n",
              "    padding: 0;\n",
              "    width: 32px;\n",
              "  }\n",
              "\n",
              "  .colab-df-quickchart:hover {\n",
              "    background-color: var(--hover-bg-color);\n",
              "    box-shadow: 0 1px 2px rgba(60, 64, 67, 0.3), 0 1px 3px 1px rgba(60, 64, 67, 0.15);\n",
              "    fill: var(--button-hover-fill-color);\n",
              "  }\n",
              "\n",
              "  .colab-df-quickchart-complete:disabled,\n",
              "  .colab-df-quickchart-complete:disabled:hover {\n",
              "    background-color: var(--disabled-bg-color);\n",
              "    fill: var(--disabled-fill-color);\n",
              "    box-shadow: none;\n",
              "  }\n",
              "\n",
              "  .colab-df-spinner {\n",
              "    border: 2px solid var(--fill-color);\n",
              "    border-color: transparent;\n",
              "    border-bottom-color: var(--fill-color);\n",
              "    animation:\n",
              "      spin 1s steps(1) infinite;\n",
              "  }\n",
              "\n",
              "  @keyframes spin {\n",
              "    0% {\n",
              "      border-color: transparent;\n",
              "      border-bottom-color: var(--fill-color);\n",
              "      border-left-color: var(--fill-color);\n",
              "    }\n",
              "    20% {\n",
              "      border-color: transparent;\n",
              "      border-left-color: var(--fill-color);\n",
              "      border-top-color: var(--fill-color);\n",
              "    }\n",
              "    30% {\n",
              "      border-color: transparent;\n",
              "      border-left-color: var(--fill-color);\n",
              "      border-top-color: var(--fill-color);\n",
              "      border-right-color: var(--fill-color);\n",
              "    }\n",
              "    40% {\n",
              "      border-color: transparent;\n",
              "      border-right-color: var(--fill-color);\n",
              "      border-top-color: var(--fill-color);\n",
              "    }\n",
              "    60% {\n",
              "      border-color: transparent;\n",
              "      border-right-color: var(--fill-color);\n",
              "    }\n",
              "    80% {\n",
              "      border-color: transparent;\n",
              "      border-right-color: var(--fill-color);\n",
              "      border-bottom-color: var(--fill-color);\n",
              "    }\n",
              "    90% {\n",
              "      border-color: transparent;\n",
              "      border-bottom-color: var(--fill-color);\n",
              "    }\n",
              "  }\n",
              "</style>\n",
              "\n",
              "  <script>\n",
              "    async function quickchart(key) {\n",
              "      const quickchartButtonEl =\n",
              "        document.querySelector('#' + key + ' button');\n",
              "      quickchartButtonEl.disabled = true;  // To prevent multiple clicks.\n",
              "      quickchartButtonEl.classList.add('colab-df-spinner');\n",
              "      try {\n",
              "        const charts = await google.colab.kernel.invokeFunction(\n",
              "            'suggestCharts', [key], {});\n",
              "      } catch (error) {\n",
              "        console.error('Error during call to suggestCharts:', error);\n",
              "      }\n",
              "      quickchartButtonEl.classList.remove('colab-df-spinner');\n",
              "      quickchartButtonEl.classList.add('colab-df-quickchart-complete');\n",
              "    }\n",
              "    (() => {\n",
              "      let quickchartButtonEl =\n",
              "        document.querySelector('#df-6837d182-1739-4eb7-9777-fc5b615f195c button');\n",
              "      quickchartButtonEl.style.display =\n",
              "        google.colab.kernel.accessAllowed ? 'block' : 'none';\n",
              "    })();\n",
              "  </script>\n",
              "</div>\n",
              "\n",
              "  <div id=\"id_65ed8f79-2f64-4974-ad5c-b3bbd7394e22\">\n",
              "    <style>\n",
              "      .colab-df-generate {\n",
              "        background-color: #E8F0FE;\n",
              "        border: none;\n",
              "        border-radius: 50%;\n",
              "        cursor: pointer;\n",
              "        display: none;\n",
              "        fill: #1967D2;\n",
              "        height: 32px;\n",
              "        padding: 0 0 0 0;\n",
              "        width: 32px;\n",
              "      }\n",
              "\n",
              "      .colab-df-generate:hover {\n",
              "        background-color: #E2EBFA;\n",
              "        box-shadow: 0px 1px 2px rgba(60, 64, 67, 0.3), 0px 1px 3px 1px rgba(60, 64, 67, 0.15);\n",
              "        fill: #174EA6;\n",
              "      }\n",
              "\n",
              "      [theme=dark] .colab-df-generate {\n",
              "        background-color: #3B4455;\n",
              "        fill: #D2E3FC;\n",
              "      }\n",
              "\n",
              "      [theme=dark] .colab-df-generate:hover {\n",
              "        background-color: #434B5C;\n",
              "        box-shadow: 0px 1px 3px 1px rgba(0, 0, 0, 0.15);\n",
              "        filter: drop-shadow(0px 1px 2px rgba(0, 0, 0, 0.3));\n",
              "        fill: #FFFFFF;\n",
              "      }\n",
              "    </style>\n",
              "    <button class=\"colab-df-generate\" onclick=\"generateWithVariable('rfm')\"\n",
              "            title=\"Generate code using this dataframe.\"\n",
              "            style=\"display:none;\">\n",
              "\n",
              "  <svg xmlns=\"http://www.w3.org/2000/svg\" height=\"24px\"viewBox=\"0 0 24 24\"\n",
              "       width=\"24px\">\n",
              "    <path d=\"M7,19H8.4L18.45,9,17,7.55,7,17.6ZM5,21V16.75L18.45,3.32a2,2,0,0,1,2.83,0l1.4,1.43a1.91,1.91,0,0,1,.58,1.4,1.91,1.91,0,0,1-.58,1.4L9.25,21ZM18.45,9,17,7.55Zm-12,3A5.31,5.31,0,0,0,4.9,8.1,5.31,5.31,0,0,0,1,6.5,5.31,5.31,0,0,0,4.9,4.9,5.31,5.31,0,0,0,6.5,1,5.31,5.31,0,0,0,8.1,4.9,5.31,5.31,0,0,0,12,6.5,5.46,5.46,0,0,0,6.5,12Z\"/>\n",
              "  </svg>\n",
              "    </button>\n",
              "    <script>\n",
              "      (() => {\n",
              "      const buttonEl =\n",
              "        document.querySelector('#id_65ed8f79-2f64-4974-ad5c-b3bbd7394e22 button.colab-df-generate');\n",
              "      buttonEl.style.display =\n",
              "        google.colab.kernel.accessAllowed ? 'block' : 'none';\n",
              "\n",
              "      buttonEl.onclick = () => {\n",
              "        google.colab.notebook.generateWithVariable('rfm');\n",
              "      }\n",
              "      })();\n",
              "    </script>\n",
              "  </div>\n",
              "\n",
              "    </div>\n",
              "  </div>\n"
            ],
            "application/vnd.google.colaboratory.intrinsic+json": {
              "type": "dataframe",
              "variable_name": "rfm",
              "summary": "{\n  \"name\": \"rfm\",\n  \"rows\": 4372,\n  \"fields\": [\n    {\n      \"column\": \"CustomerID\",\n      \"properties\": {\n        \"dtype\": \"number\",\n        \"std\": 1722.3907054276913,\n        \"min\": 12346.0,\n        \"max\": 18287.0,\n        \"num_unique_values\": 4372,\n        \"samples\": [\n          15079.0,\n          12930.0,\n          12956.0\n        ],\n        \"semantic_type\": \"\",\n        \"description\": \"\"\n      }\n    },\n    {\n      \"column\": \"Recency\",\n      \"properties\": {\n        \"dtype\": \"number\",\n        \"std\": 100,\n        \"min\": 1,\n        \"max\": 374,\n        \"num_unique_values\": 349,\n        \"samples\": [\n          148,\n          340,\n          270\n        ],\n        \"semantic_type\": \"\",\n        \"description\": \"\"\n      }\n    },\n    {\n      \"column\": \"Frequency\",\n      \"properties\": {\n        \"dtype\": \"number\",\n        \"std\": 9,\n        \"min\": 1,\n        \"max\": 248,\n        \"num_unique_values\": 65,\n        \"samples\": [\n          77,\n          46,\n          2\n        ],\n        \"semantic_type\": \"\",\n        \"description\": \"\"\n      }\n    },\n    {\n      \"column\": \"Monetary\",\n      \"properties\": {\n        \"dtype\": \"number\",\n        \"std\": 8219.345141066593,\n        \"min\": -4287.63,\n        \"max\": 279489.02,\n        \"num_unique_values\": 4288,\n        \"samples\": [\n          633.71,\n          1019.39,\n          2630.64\n        ],\n        \"semantic_type\": \"\",\n        \"description\": \"\"\n      }\n    }\n  ]\n}"
            }
          },
          "metadata": {},
          "execution_count": 60
        }
      ]
    },
    {
      "cell_type": "markdown",
      "id": "e7b84cc0",
      "metadata": {
        "id": "e7b84cc0"
      },
      "source": [
        "## 4. Asignación de Puntajes RFM\n",
        "\n",
        "Ahora, vamos a asignar puntajes a cada una de las métricas usando cuartiles. Para **Recency** asignaremos de forma inversa (más bajo es mejor) y para **Frecuencia** y **Monetario** de forma directa.\n",
        "\n",
        "\n",
        "Asignar puntajes usando pd.qcut\n",
        "https://pandas.pydata.org/docs/reference/api/pandas.qcut.html\n",
        "Tenga en cuent si encesita duplicates= \"drop\" en algun momento\n",
        "Y cuando los labels serian 1,2,3,4 y cuando 4,3,2,1"
      ]
    },
    {
      "cell_type": "code",
      "source": [
        "import pandas as pd\n",
        "\n",
        "# Assuming 'rfm_table' is the DataFrame containing your RFM data\n",
        "rfm_df = rfm_table.copy()  # Create a copy of rfm_table and assign it to rfm_df\n",
        "\n",
        "r_labels = [4, 3, 2, 1]\n",
        "rfm_df['R_score'] = pd.qcut(rfm_df['Recency'], q=4, labels=r_labels, duplicates='drop')\n",
        "\n",
        "f_labels = [1, 2, 3, 4]\n",
        "rfm_df['F_score'] = pd.qcut(rfm_df['Frequency'], q=4, labels=f_labels[:3], duplicates='drop')\n",
        "\n",
        "\n",
        "m_labels = [1, 2, 3, 4]\n",
        "rfm_df['M_score'] = pd.qcut(rfm_df['Monetary'], q=4, labels=m_labels, duplicates='drop')\n",
        "\n",
        "rfm_df['R_score'] = pd.to_numeric(rfm_df['R_score'], errors='coerce').fillna(0).astype(int)\n",
        "rfm_df['F_score'] = pd.to_numeric(rfm_df['F_score'], errors='coerce').fillna(0).astype(int)\n",
        "rfm_df['M_score'] = pd.to_numeric(rfm_df['M_score'], errors='coerce').fillna(0).astype(int)\n",
        "\n",
        "rfm_df['RFM_Score'] = rfm_df['R_score'].astype(str) + rfm_df['F_score'].astype(str) + rfm_df['M_score'].astype(str)\n",
        "print(rfm_df)"
      ],
      "metadata": {
        "colab": {
          "base_uri": "https://localhost:8080/"
        },
        "id": "ZW85IC0ZydZw",
        "outputId": "e4e9b4e7-9cf7-4c56-fb24-21294df9a77f"
      },
      "id": "ZW85IC0ZydZw",
      "execution_count": null,
      "outputs": [
        {
          "output_type": "stream",
          "name": "stdout",
          "text": [
            "            Recency  Frequency  Monetary  R_score  F_score  M_score RFM_Score\n",
            "CustomerID                                                                   \n",
            "12346.0         326          1  77183.60        1        1        4       114\n",
            "12347.0           2          7   4310.00        4        3        4       434\n",
            "12348.0          75          4   1797.24        2        2        4       224\n",
            "12349.0          19          1   1757.55        3        1        4       314\n",
            "12350.0         310          1    334.40        1        1        2       112\n",
            "...             ...        ...       ...      ...      ...      ...       ...\n",
            "18280.0         278          1    180.60        1        1        1       111\n",
            "18281.0         181          1     80.82        1        1        1       111\n",
            "18282.0           8          2    178.05        4        1        1       411\n",
            "18283.0           4         16   2094.88        4        3        4       434\n",
            "18287.0          43          3   1837.28        3        2        4       324\n",
            "\n",
            "[4339 rows x 7 columns]\n"
          ]
        }
      ]
    },
    {
      "cell_type": "code",
      "source": [],
      "metadata": {
        "id": "_MZA4oKrxIYR"
      },
      "id": "_MZA4oKrxIYR",
      "execution_count": null,
      "outputs": []
    },
    {
      "cell_type": "markdown",
      "source": [
        "Cree RFM_Score que sea la concatenacion de texto de los anteriores score"
      ],
      "metadata": {
        "id": "QHm3e6tkz6Y5"
      },
      "id": "QHm3e6tkz6Y5"
    },
    {
      "cell_type": "code",
      "execution_count": null,
      "id": "3a4cb6c7",
      "metadata": {
        "colab": {
          "base_uri": "https://localhost:8080/"
        },
        "id": "3a4cb6c7",
        "outputId": "ef32a320-3acd-4819-84eb-96eb427c0213"
      },
      "outputs": [
        {
          "output_type": "stream",
          "name": "stdout",
          "text": [
            "            Recency  Frequency  Monetary  R_score  F_score  M_score RFM_Score\n",
            "CustomerID                                                                   \n",
            "12346.0         326          1  77183.60        1        1        4       114\n",
            "12347.0           2          7   4310.00        4        3        4       434\n",
            "12348.0          75          4   1797.24        2        2        4       224\n",
            "12349.0          19          1   1757.55        3        1        4       314\n",
            "12350.0         310          1    334.40        1        1        2       112\n",
            "...             ...        ...       ...      ...      ...      ...       ...\n",
            "18280.0         278          1    180.60        1        1        1       111\n",
            "18281.0         181          1     80.82        1        1        1       111\n",
            "18282.0           8          2    178.05        4        1        1       411\n",
            "18283.0           4         16   2094.88        4        3        4       434\n",
            "18287.0          43          3   1837.28        3        2        4       324\n",
            "\n",
            "[4339 rows x 7 columns]\n"
          ]
        }
      ],
      "source": [
        "rfm_df['RFM_Score'] = rfm_df['R_score'].astype(str) + rfm_df['F_score'].astype(str) + rfm_df['M_score'].astype(str)\n",
        "print(rfm_df)"
      ]
    },
    {
      "cell_type": "markdown",
      "id": "4e55325e",
      "metadata": {
        "id": "4e55325e"
      },
      "source": [
        "## 5. Definición de Segmentos\n",
        "\n",
        "Con los puntajes asignados, podemos definir segmentos de clientes. Por ejemplo, podemos identificar:\n",
        "\n",
        "- **Champions:** Clientes con puntajes altos en R, F y M (por ejemplo, `R_score >= 3`, `F_score >= 3`, `M_score >= 3`).\n",
        "- **Loyal Customers:** Clientes leales que compran frecuentemente y tienen un gasto moderado a alto.\n",
        "- **Potential Loyalist:** Clientes que muestran potencial, pero que aún no alcanzan los niveles de los Champions.\n",
        "- **At Risk:** Clientes con puntajes bajos en recencia y frecuencia, lo que indica riesgo de abandono.\n",
        "\n",
        "Puedes personalizar estos criterios según tu caso de negocio.\n",
        "\n",
        "Ejecuta la siguiente celda para asignar segmentos.\n",
        " tiene que aplicarlo en una columna en su df\n",
        "rfm['Segment'] = rfm.apply(segment_me, axis=1)\n"
      ]
    },
    {
      "cell_type": "code",
      "execution_count": null,
      "id": "5d54af88",
      "metadata": {
        "colab": {
          "base_uri": "https://localhost:8080/"
        },
        "id": "5d54af88",
        "outputId": "a0ddca3b-9ffb-4932-8e3f-4dbc80ffe30f"
      },
      "outputs": [
        {
          "output_type": "stream",
          "name": "stdout",
          "text": [
            "            Recency  Frequency  Monetary  R_score  F_score  M_score RFM_Score  \\\n",
            "CustomerID                                                                      \n",
            "12346.0         326          1  77183.60        1        1        4       114   \n",
            "12347.0           2          7   4310.00        4        3        4       434   \n",
            "12348.0          75          4   1797.24        2        2        4       224   \n",
            "12349.0          19          1   1757.55        3        1        4       314   \n",
            "12350.0         310          1    334.40        1        1        2       112   \n",
            "...             ...        ...       ...      ...      ...      ...       ...   \n",
            "18280.0         278          1    180.60        1        1        1       111   \n",
            "18281.0         181          1     80.82        1        1        1       111   \n",
            "18282.0           8          2    178.05        4        1        1       411   \n",
            "18283.0           4         16   2094.88        4        3        4       434   \n",
            "18287.0          43          3   1837.28        3        2        4       324   \n",
            "\n",
            "              Segment  \n",
            "CustomerID             \n",
            "12346.0       At Risk  \n",
            "12347.0     Champions  \n",
            "12348.0       At Risk  \n",
            "12349.0        Others  \n",
            "12350.0       At Risk  \n",
            "...               ...  \n",
            "18280.0       At Risk  \n",
            "18281.0       At Risk  \n",
            "18282.0        Others  \n",
            "18283.0     Champions  \n",
            "18287.0        Others  \n",
            "\n",
            "[4339 rows x 8 columns]\n"
          ]
        }
      ],
      "source": [
        "def segment_me(row):\n",
        "    # Convertir los puntajes a enteros para comparación\n",
        "    r = int(row['R_score'])\n",
        "    f = int(row['F_score'])\n",
        "    m = int(row['M_score'])\n",
        "\n",
        "    if r >= 3 and f >= 3 and m >= 3:\n",
        "        return 'Champions'\n",
        "    elif f >= 3 and m >= 2:\n",
        "        return 'Loyal Customers'\n",
        "    elif r >= 3 and f in [2,3] and m in [2,3]:\n",
        "        return 'Potential Loyalist'\n",
        "    elif r in [1,2] and f in [1,2]:\n",
        "        return 'At Risk'\n",
        "    else:\n",
        "        return 'Others'\n",
        "rfm_df['Segment'] = rfm_df.apply(segment_me, axis=1)\n",
        "print(rfm_df)\n",
        "\n"
      ]
    },
    {
      "cell_type": "markdown",
      "id": "fd0e9f05",
      "metadata": {
        "id": "fd0e9f05"
      },
      "source": [
        "## 6. Visualizaciones\n",
        "\n",
        "A continuación, crearemos algunas gráficas para visualizar la distribución de las métricas RFM y la cantidad de clientes por segmento."
      ]
    },
    {
      "cell_type": "markdown",
      "id": "2a7f2054",
      "metadata": {
        "id": "2a7f2054"
      },
      "source": [
        "### 6.1 Histogramas de Recency, Frequency y Monetary"
      ]
    },
    {
      "cell_type": "code",
      "execution_count": null,
      "id": "1ab8d509",
      "metadata": {
        "id": "1ab8d509",
        "outputId": "7fe080ff-ceed-45d0-cbb5-e48071ff4747",
        "colab": {
          "base_uri": "https://localhost:8080/",
          "height": 501
        }
      },
      "outputs": [
        {
          "output_type": "display_data",
          "data": {
            "text/plain": [
              "<Figure size 1500x500 with 3 Axes>"
            ],
            "image/png": "[encoded data removed]"
          },
          "metadata": {}
        }
      ],
      "source": [
        "import pandas as pd\n",
        "import numpy as np\n",
        "import datetime as dt\n",
        "import matplotlib.pyplot as plt\n",
        "import seaborn as sns\n",
        "\n",
        "# Assuming rfm_df is the correct DataFrame\n",
        "plt.figure(figsize=(15, 5))\n",
        "plt.subplot(1, 3, 1)\n",
        "sns.histplot(rfm_df['Recency'], bins=30, kde=True)  # Changed rfm to rfm_df\n",
        "plt.title('Distribución de Recencia')\n",
        "plt.subplot(1, 3, 2)\n",
        "sns.histplot(rfm_df['Frequency'], bins=30, kde=True) # Changed rfm to rfm_df\n",
        "plt.title('Distribución de Frecuencia')\n",
        "plt.subplot(1, 3, 3)\n",
        "sns.histplot(rfm_df['Monetary'], bins=30, kde=True) # Changed rfm to rfm_df\n",
        "plt.title('Distribución Monetaria')\n",
        "\n",
        "plt.tight_layout()\n",
        "plt.show()"
      ]
    },
    {
      "cell_type": "markdown",
      "id": "a695efb0",
      "metadata": {
        "id": "a695efb0"
      },
      "source": [
        "### 6.2 Conteo de Clientes por Segmento"
      ]
    },
    {
      "cell_type": "code",
      "execution_count": null,
      "id": "86fa2b7a",
      "metadata": {
        "id": "86fa2b7a",
        "outputId": "fb41e303-9f9c-42c1-fece-d634c13bc43a",
        "colab": {
          "base_uri": "https://localhost:8080/",
          "height": 601
        }
      },
      "outputs": [
        {
          "output_type": "display_data",
          "data": {
            "text/plain": [
              "<Figure size 1000x600 with 1 Axes>"
            ],
            "image/png": "[encoded data removed]"
          },
          "metadata": {}
        }
      ],
      "source": [
        "segment_counts = rfm_df['Segment'].value_counts().sort_values(ascending=False) # Change rfm to rfm_df\n",
        "plt.figure(figsize=(10, 6))\n",
        "sns.barplot(x=segment_counts.index, y=segment_counts.values)\n",
        "plt.title('Conteo de Clientes por Segmento')\n",
        "plt.xlabel('Segmento RFM')\n",
        "plt.ylabel('Número de Clientes')\n",
        "plt.xticks(rotation=45, ha='right')\n",
        "plt.tight_layout()\n",
        "plt.show()"
      ]
    },
    {
      "cell_type": "markdown",
      "id": "ce1d5115",
      "metadata": {
        "id": "ce1d5115"
      },
      "source": [
        "### 6.3 Gráfico de Dispersión: Frequency vs Monetary\n",
        "\n",
        "Visualizaremos la relación entre la frecuencia y el gasto, diferenciando por segmento."
      ]
    },
    {
      "cell_type": "code",
      "execution_count": null,
      "id": "5c73d2a7",
      "metadata": {
        "id": "5c73d2a7",
        "outputId": "5085a4fc-200f-46d1-9e86-c6334e28932e",
        "colab": {
          "base_uri": "https://localhost:8080/",
          "height": 601
        }
      },
      "outputs": [
        {
          "output_type": "display_data",
          "data": {
            "text/plain": [
              "<Figure size 1000x600 with 1 Axes>"
            ],
            "image/png": "[encoded data removed]"
          },
          "metadata": {}
        }
      ],
      "source": [
        "plt.figure(figsize=(10, 6))\n",
        "sns.scatterplot(x='Frequency', y='Monetary', hue='Segment', data=rfm_df)\n",
        "plt.title('Frecuencia vs Gasto (Monetario) por Segmento')\n",
        "plt.xlabel('Frecuencia')\n",
        "plt.ylabel('Gasto Monetario')\n",
        "plt.legend(title='Segmento')\n",
        "plt.grid(True)\n",
        "plt.tight_layout()\n",
        "plt.show()"
      ]
    },
    {
      "cell_type": "markdown",
      "id": "2d61469f",
      "metadata": {
        "id": "2d61469f"
      },
      "source": [
        "## 7. Conclusiones y Próximos Pasos\n",
        "\n",
        "En este taller hemos:\n",
        "\n",
        "1. **Preparado y limpiado los datos**: Se simuló un DataFrame, se convirtieron las fechas y se creó la columna `TotalPrice`.\n",
        "2. **Calculado las métricas RFM** para cada cliente.\n",
        "3. **Asignado puntajes** a cada métrica utilizando cuartiles.\n",
        "4. **Definido segmentos** de clientes basados en los puntajes.\n",
        "5. **Visualizado** la distribución de las métricas y los segmentos.\n",
        "\n",
        "Utiliza estos resultados para diseñar estrategias de marketing específicas para cada segmento (por ejemplo, campañas de retención para los clientes \"At Risk\" o programas VIP para los \"Champions\").\n",
        "\n",
        "¡Felicidades por completar el taller!"
      ]
    }
  ],
  "metadata": {
    "kernelspec": {
      "display_name": "Python 3",
      "language": "python",
      "name": "python3"
    },
    "language_info": {
      "codemirror_mode": {
        "name": "ipython",
        "version": 3
      },
      "file_extension": ".py",
      "mimetype": "text/x-python",
      "name": "python",
      "nbconvert_exporter": "python",
      "pygments_lexer": "ipython3",
      "version": "3.12.4"
    },
    "colab": {
      "provenance": []
    }
  },
  "nbformat": 4,
  "nbformat_minor": 5
}